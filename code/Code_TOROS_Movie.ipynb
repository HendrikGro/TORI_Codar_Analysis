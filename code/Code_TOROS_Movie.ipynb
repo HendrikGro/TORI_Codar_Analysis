{
 "cells": [
  {
   "cell_type": "code",
   "execution_count": 1,
   "id": "779c061c-5302-4226-bf08-b779a04305d4",
   "metadata": {},
   "outputs": [
    {
     "name": "stderr",
     "output_type": "stream",
     "text": [
      "/home/hgrosselindemann/miniconda3/envs/myenv/lib/python3.8/site-packages/tqdm/auto.py:22: TqdmWarning: IProgress not found. Please update jupyter and ipywidgets. See https://ipywidgets.readthedocs.io/en/stable/user_install.html\n",
      "  from .autonotebook import tqdm as notebook_tqdm\n"
     ]
    }
   ],
   "source": [
    "import numpy as np\n",
    "import matplotlib.pyplot as plt\n",
    "import xarray as xr\n",
    "import pandas as pd\n",
    "import cmocean.cm as cmo\n",
    "import cartopy.crs as ccrs\n",
    "import cartopy.feature as cfeature\n",
    "import scipy\n",
    "from datetime import datetime,timedelta\n",
    "from xmovie import Movie\n",
    "import nfft\n",
    "import xrft\n",
    "import cmath\n",
    "import matplotlib as mpl\n",
    "from matplotlib.lines import Line2D\n",
    "import math\n",
    "from math import radians, cos, sin, asin, sqrt\n",
    "\n",
    "%matplotlib inline"
   ]
  },
  {
   "cell_type": "markdown",
   "id": "6541786e-4b70-4bd9-a5d3-59392a2085d5",
   "metadata": {},
   "source": [
    "# Load Data"
   ]
  },
  {
   "cell_type": "code",
   "execution_count": 2,
   "id": "efe1e623-253b-43b3-a673-7f123cb7d4ca",
   "metadata": {},
   "outputs": [],
   "source": [
    "input_path = '/home/hgrosselindemann/Downloads/'\n",
    "\n",
    "velocity = xr.open_dataset(input_path + 'velocity_filtered.nc')"
   ]
  },
  {
   "cell_type": "code",
   "execution_count": 3,
   "id": "05269533-bcf6-44c5-9978-d02051dbee3c",
   "metadata": {},
   "outputs": [],
   "source": [
    "velocity_daily = velocity.resample(time='1D').mean(dim='time')"
   ]
  },
  {
   "cell_type": "markdown",
   "id": "dc370d99-4c1e-4931-b642-6de457042bf1",
   "metadata": {
    "tags": []
   },
   "source": [
    "# Movie"
   ]
  },
  {
   "cell_type": "code",
   "execution_count": 4,
   "id": "fcf32e02-36ae-4721-acde-c400fbf56ae9",
   "metadata": {},
   "outputs": [
    {
     "data": {
      "text/plain": [
       "<Figure size 1000x1000 with 0 Axes>"
      ]
     },
     "metadata": {},
     "output_type": "display_data"
    }
   ],
   "source": [
    "fig = plt.figure(figsize=(10,10))\n",
    "\n",
    "def custom_plotfunc(ds,fig,tt,framedim='time',**kwargs):\n",
    "    ax = fig.subplots(subplot_kw={'projection':ccrs.PlateCarree()})\n",
    "    ds.isel({framedim:tt}).plot.quiver('lon','lat','u_filtered','v_filtered',ax=ax,add_guide=False)\n",
    "    ax.add_feature(cfeature.LAND, facecolor='grey',edgecolor='black')\n",
    "    gl = ax.gridlines(draw_labels=True)\n",
    "    ax.set_title(str(ds.isel(time=tt).time.values)[:10])\n",
    "    gl.right_labels=False\n",
    "    gl.top_labels=False\n",
    "    \n",
    "    return None,None\n",
    "    \n"
   ]
  },
  {
   "cell_type": "code",
   "execution_count": 7,
   "id": "ef858b1b-0353-43c3-99b5-4216e778a80a",
   "metadata": {},
   "outputs": [],
   "source": [
    "mov = Movie(velocity_daily.chunk({'time':1}),custom_plotfunc,input_check=False)"
   ]
  },
  {
   "cell_type": "code",
   "execution_count": null,
   "id": "677ebb53-b0e5-4ca4-84d9-fbd9e6ef6e98",
   "metadata": {},
   "outputs": [],
   "source": [
    "mov.save('movie_TOROS.mp4',overwrite_existing=True,framerate=6,parallel=True)"
   ]
  },
  {
   "cell_type": "code",
   "execution_count": null,
   "id": "5c03dcf2-b938-4a63-90be-80c4a9db681d",
   "metadata": {},
   "outputs": [],
   "source": []
  }
 ],
 "metadata": {
  "kernelspec": {
   "display_name": "Python [conda env:myenv]",
   "language": "python",
   "name": "conda-env-myenv-py"
  },
  "language_info": {
   "codemirror_mode": {
    "name": "ipython",
    "version": 3
   },
   "file_extension": ".py",
   "mimetype": "text/x-python",
   "name": "python",
   "nbconvert_exporter": "python",
   "pygments_lexer": "ipython3",
   "version": "3.8.16"
  }
 },
 "nbformat": 4,
 "nbformat_minor": 5
}
