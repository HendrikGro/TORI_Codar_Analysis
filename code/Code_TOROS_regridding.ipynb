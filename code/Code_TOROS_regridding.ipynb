{
 "cells": [
  {
   "cell_type": "markdown",
   "id": "55483eeb-b7b7-4f8b-9ef4-8cde0965cd4f",
   "metadata": {},
   "source": [
    "for guideon how to use xesmf regridding, see:\n",
    "\n",
    "https://xesmf.readthedocs.io/en/latest/index.html"
   ]
  },
  {
   "cell_type": "code",
   "execution_count": 2,
   "id": "4ff5efa7-1027-41da-b2bd-df5cce0e7af5",
   "metadata": {
    "tags": []
   },
   "outputs": [],
   "source": [
    "import numpy as np\n",
    "import matplotlib.pyplot as plt\n",
    "import xarray as xr\n",
    "import xesmf\n",
    "\n",
    "%matplotlib inline"
   ]
  },
  {
   "cell_type": "code",
   "execution_count": 2,
   "id": "9b71c081-b5a5-4e41-9164-198fcd73f026",
   "metadata": {},
   "outputs": [],
   "source": [
    "input_path = '/home/hgrosselindemann/Documents/TORI/'\n",
    "\n",
    "velocity_fine = xr.open_dataset(input_path + 'velocity_raw_filtered.nc')\n",
    "wind = xr.open_dataset(input_path + 'ERA5_10m_winds.nc')\n",
    "wind = wind.rename({'longitude':'lon','latitude':'lat'})\n",
    "ssh = xr.open_dataset(input_path + 'cmems_obs-sl_glo_phy-ssh_my_allsat-l4-duacs-0.25deg_P1D_1679615605995.nc')\n",
    "ssh = ssh.rename({'longitude':'lon','latitude':'lat'})"
   ]
  },
  {
   "cell_type": "code",
   "execution_count": 11,
   "id": "4027e400-25ea-4b01-a939-1936c8c0c98e",
   "metadata": {},
   "outputs": [],
   "source": [
    "wind_new = xr.Dataset(\n",
    "    {\n",
    "        \"lat\": ([\"lat\"], ssh.lat.data),\n",
    "        \"lon\": ([\"lon\"], ssh.lon.data)\n",
    "}\n",
    ")"
   ]
  },
  {
   "cell_type": "code",
   "execution_count": 13,
   "id": "dcd0c736-8db4-4f72-8651-3c3417bda56e",
   "metadata": {},
   "outputs": [
    {
     "data": {
      "text/plain": [
       "xESMF Regridder \n",
       "Regridding algorithm:       bilinear \n",
       "Weight filename:            bilinear_29x25_45x41.nc \n",
       "Reuse pre-computed weights? False \n",
       "Input grid shape:           (29, 25) \n",
       "Output grid shape:          (45, 41) \n",
       "Periodic in longitude?      False"
      ]
     },
     "execution_count": 13,
     "metadata": {},
     "output_type": "execute_result"
    }
   ],
   "source": [
    "regridder = xesmf.Regridder(wind,wind_new,'bilinear')\n",
    "regridder"
   ]
  },
  {
   "cell_type": "code",
   "execution_count": 14,
   "id": "bc1257d0-2a7b-4417-8a76-80171ea17a50",
   "metadata": {},
   "outputs": [],
   "source": [
    "wind_new = regridder(wind)"
   ]
  },
  {
   "cell_type": "code",
   "execution_count": 15,
   "id": "faed9038-ebec-4690-929d-259494a312ce",
   "metadata": {},
   "outputs": [],
   "source": [
    "wind_new = wind_new.where(wind_new.u10!=0,drop=True)"
   ]
  },
  {
   "cell_type": "code",
   "execution_count": 23,
   "id": "453d8359-c866-4f2b-8baa-addc1c298f67",
   "metadata": {},
   "outputs": [],
   "source": [
    "wind_new.to_netcdf(input_path + 'ERA5_10m_wind_CMEMSGrid.nc')"
   ]
  },
  {
   "cell_type": "code",
   "execution_count": null,
   "id": "325d3d5d-0180-4fe6-84d0-c8ea606dfa32",
   "metadata": {},
   "outputs": [],
   "source": []
  }
 ],
 "metadata": {
  "kernelspec": {
   "display_name": "Python 3 (ipykernel)",
   "language": "python",
   "name": "python3"
  },
  "language_info": {
   "codemirror_mode": {
    "name": "ipython",
    "version": 3
   },
   "file_extension": ".py",
   "mimetype": "text/x-python",
   "name": "python",
   "nbconvert_exporter": "python",
   "pygments_lexer": "ipython3",
   "version": "3.9.16"
  }
 },
 "nbformat": 4,
 "nbformat_minor": 5
}
