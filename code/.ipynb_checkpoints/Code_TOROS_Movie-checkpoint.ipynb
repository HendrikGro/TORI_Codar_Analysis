{
 "cells": [
  {
   "cell_type": "code",
   "execution_count": 1,
   "id": "779c061c-5302-4226-bf08-b779a04305d4",
   "metadata": {},
   "outputs": [],
   "source": [
    "import numpy as np\n",
    "import matplotlib.pyplot as plt\n",
    "import xarray as xr\n",
    "import pandas as pd\n",
    "import cmocean.cm as cmo\n",
    "import cartopy.crs as ccrs\n",
    "import cartopy.feature as cfeature\n",
    "import scipy\n",
    "from datetime import datetime,timedelta\n",
    "from xmovie import Movie\n",
    "import nfft\n",
    "import xrft\n",
    "import cmath\n",
    "import matplotlib as mpl\n",
    "from matplotlib.lines import Line2D\n",
    "import math\n",
    "from math import radians, cos, sin, asin, sqrt\n",
    "\n",
    "%matplotlib inline"
   ]
  },
  {
   "cell_type": "markdown",
   "id": "6541786e-4b70-4bd9-a5d3-59392a2085d5",
   "metadata": {},
   "source": [
    "# Load Data"
   ]
  },
  {
   "cell_type": "code",
   "execution_count": 2,
   "id": "efe1e623-253b-43b3-a673-7f123cb7d4ca",
   "metadata": {},
   "outputs": [],
   "source": [
    "input_path = 'E:/for_hendrik_20230316/'\n",
    "\n",
    "velocity = xr.open_dataset(input_path + 'velocity_filtered.nc')"
   ]
  },
  {
   "cell_type": "markdown",
   "id": "dc370d99-4c1e-4931-b642-6de457042bf1",
   "metadata": {
    "tags": []
   },
   "source": [
    "# Movie"
   ]
  },
  {
   "cell_type": "code",
   "execution_count": 9,
   "id": "fcf32e02-36ae-4721-acde-c400fbf56ae9",
   "metadata": {},
   "outputs": [
    {
     "data": {
      "text/plain": [
       "<Figure size 1000x1000 with 0 Axes>"
      ]
     },
     "metadata": {},
     "output_type": "display_data"
    }
   ],
   "source": [
    "fig = plt.figure(figsize=(10,10))\n",
    "\n",
    "def custom_plotfunc(ds,fig,tt,framedim='time',**kwargs):\n",
    "    ax = fig.subplots(subplot_kw={'projection':ccrs.PlateCarree()})\n",
    "    ds.isel({framedim:tt}).plot.quiver('lon','lat','u_filtered','v_filtered',ax=ax)\n",
    "    ax.add_feature(cfeature.LAND, facecolor='grey',edgecolor='black')\n",
    "    ax.gridlines(draw_labels=True)\n",
    "    return None,None\n",
    "    \n",
    "# mov = Movie(velocity,custom_plotfunc,input_check=False)\n",
    "# mov.save('movie_2015.mp4',overwrite_existing=True,framerate=8)"
   ]
  }
 ],
 "metadata": {
  "kernelspec": {
   "display_name": "Python 3 (ipykernel)",
   "language": "python",
   "name": "python3"
  },
  "language_info": {
   "codemirror_mode": {
    "name": "ipython",
    "version": 3
   },
   "file_extension": ".py",
   "mimetype": "text/x-python",
   "name": "python",
   "nbconvert_exporter": "python",
   "pygments_lexer": "ipython3",
   "version": "3.9.13"
  }
 },
 "nbformat": 4,
 "nbformat_minor": 5
}
